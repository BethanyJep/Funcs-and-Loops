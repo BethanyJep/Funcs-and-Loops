{
  "nbformat": 4,
  "nbformat_minor": 0,
  "metadata": {
    "colab": {
      "name": "Loops & Functions.ipynb",
      "provenance": [],
      "authorship_tag": "ABX9TyNuVBYqKO9UIT77qglJELVO"
    },
    "kernelspec": {
      "name": "python3",
      "display_name": "Python 3.9.2 64-bit"
    },
    "language_info": {
      "name": "python",
      "version": "3.9.2"
    },
    "interpreter": {
      "hash": "167f6ba5749553309b1aeed0a1522fa65006d5da00469873d4aad8c1e6fadf6e"
    }
  },
  "cells": [
    {
      "cell_type": "markdown",
      "metadata": {
        "id": "exrLmrR8nieH"
      },
      "source": [
        "<p align=\"center\">\n",
        "<img src=\"https://github.com/BethanyJep/Funcs-and-Loops/blob/main/ai-gaming%20bethany%20Jepchumba.png?raw=true\" alt=\"Logo\" width=\"auto\" height=\"300px\" align=\"center\">\n",
        "<p/>"
      ]
    },
    {
      "cell_type": "markdown",
      "metadata": {
        "id": "9jXrRoDPrWrv"
      },
      "source": [
        "# Loops and Functions in Python\n"
      ]
    },
    {
      "cell_type": "markdown",
      "metadata": {
        "id": "ADM-07ZFrnrm"
      },
      "source": [
        "## Objectives of the session\n",
        "\n",
        "* Use the while statement to iterate through a code block.​\n",
        "* Use the break, continue, and else statements to further control iteration.\n",
        "* Use for looops to iterate sequences\n",
        "* Define functions and add arguments and later return values from functions\n",
        "* Create modules to host functions that can be imported to other files\n",
        "\n",
        "​\n",
        "\n"
      ]
    },
    {
      "cell_type": "markdown",
      "metadata": {
        "id": "rgYdzdd_r0aw"
      },
      "source": [
        "## Loops\n",
        "\n",
        "notes and code extracted from Microsoft Learn at - https://docs.microsoft.com/en-us/learn/modules/python-while/ \n",
        "### Background\n",
        "In programming, there are some commands that you will find yourself repeating over and over again. For instance, when one logs in to an account. To every individual who signs up, you will have to confirm whether they already have an account then sign them up to their account.​\n",
        "\n",
        "In this way, you will have to repeat the process until a condition is met.​\n",
        "\n",
        "### Why use loops\n",
        "Loops are basically statements that repeat themselves multiple times until a set condition is met.  ​\n",
        "\n",
        "It can mean repeat the process every song in an album, every time the user successfully logs in, or as many times as you receive messages until a certain condition is met.​\n",
        "\n",
        "Loops can repeat infinitely until you set a command or condition for them to stop. "
      ]
    },
    {
      "cell_type": "markdown",
      "metadata": {
        "id": "tNjtZHRlsjaF"
      },
      "source": [
        "### While loops\n",
        "\n",
        "While repeats an action when the commands are met and the given condition is no longer  TRUE. ​\n",
        "\n",
        "While statements help us iterate through code blocks."
      ]
    },
    {
      "cell_type": "code",
      "metadata": {
        "colab": {
          "base_uri": "https://localhost:8080/"
        },
        "id": "t9PuAKWUvdNm",
        "outputId": "90aaec3a-a1ea-4fce-9b6f-b84517f31055"
      },
      "source": [
        "num = 3\n",
        "\n",
        "while num != 12:\n",
        "    num +=1\n",
        "    print(num)"
      ],
      "execution_count": 6,
      "outputs": [
        {
          "output_type": "stream",
          "name": "stdout",
          "text": [
            "4\n5\n6\n7\n8\n9\n10\n11\n12\n"
          ]
        }
      ]
    },
    {
      "cell_type": "code",
      "metadata": {
        "colab": {
          "base_uri": "https://localhost:8080/"
        },
        "id": "vWy9VxZxvyb7",
        "outputId": "ce558810-a796-41f1-c2b2-2f4b9a92cdb6"
      },
      "source": [
        "num = 34\n",
        "while num >= 10:\n",
        "    num -=5\n",
        "    print(num)"
      ],
      "execution_count": 8,
      "outputs": [
        {
          "output_type": "stream",
          "name": "stdout",
          "text": [
            "29\n24\n19\n14\n9\n"
          ]
        }
      ]
    },
    {
      "cell_type": "code",
      "metadata": {
        "id": "fDZUwM__nuJ-"
      },
      "source": [
        "#Lets play a game!\n",
        "import random \n",
        "\n",
        "roll = 0\n",
        "count = 0\n",
        "\n",
        "while roll != 5:\n",
        "  count = count + 1\n",
        "  roll = random.randint(1, 10)\n",
        "  print(roll)\n",
        "\n",
        "print(f'It took {count} rolls to roll a 5!')\n",
        "#remember to ensure the code can be terminated"
      ],
      "execution_count": null,
      "outputs": []
    },
    {
      "cell_type": "markdown",
      "metadata": {
        "id": "ktrxWsztuvbF"
      },
      "source": [
        "use break to terminate your code prematurely\n",
        "\n"
      ]
    },
    {
      "cell_type": "code",
      "metadata": {
        "colab": {
          "base_uri": "https://localhost:8080/"
        },
        "id": "ugNGZgLwE6uM",
        "outputId": "2ab794b6-a917-429b-a2c2-26865a87554e"
      },
      "source": [
        "import random \n",
        "\n",
        "roll = 0\n",
        "count = 0\n",
        "\n",
        "print('First person to roll a 5 wins!')\n",
        "while roll != 5:\n",
        "  \n",
        "  name = input('Enter a name, or \\'q\\' to quit:  ' )\n",
        "  #you can nest if-else statements inside a while loop\n",
        "  if name == 'q':\n",
        "    break\n",
        "  \n",
        "  count += 1\n",
        "  roll = random.randint(1, 5)\n",
        "  print(f'{name} rolled {roll}')\n",
        "else:\n",
        "    print(f'{name} Wins!!!')\n",
        "\n",
        "print(f'You rolled the dice {count} times.')"
      ],
      "execution_count": 5,
      "outputs": [
        {
          "output_type": "stream",
          "name": "stdout",
          "text": [
            "First person to roll a 5 wins!\n",
            "You rolled the dice 0 times.\n"
          ]
        }
      ]
    },
    {
      "cell_type": "markdown",
      "metadata": {
        "id": "Cj8FTPO3uzg8"
      },
      "source": [
        "use continue to skip the reminder of the code and go back to the bool expression"
      ]
    },
    {
      "cell_type": "code",
      "metadata": {
        "colab": {
          "base_uri": "https://localhost:8080/"
        },
        "id": "nXXCH_N1rWWv",
        "outputId": "7d78cda7-5211-4ea3-c632-0127f88da433"
      },
      "source": [
        "import random \n",
        "\n",
        "roll = 0\n",
        "count = 0\n",
        "\n",
        "\n",
        "print('First person to roll a 5 wins!')\n",
        "while roll != 5:\n",
        "  name = input('Enter a name, or \\'q\\' to quit:  ' )\n",
        "\n",
        "  if name.strip() == '':\n",
        "    continue\n",
        "\n",
        "  if name.strip() == 'q':\n",
        "      break\n",
        "  \n",
        "  count = count + 1\n",
        "  roll = random.randint(1, 5)\n",
        "  print(f'{name} rolled {roll}')\n",
        "else:\n",
        "    print(f'{name} Wins!!!')\n",
        "\n",
        "print(f'You rolled the dice {count} times.')"
      ],
      "execution_count": 7,
      "outputs": [
        {
          "output_type": "stream",
          "name": "stdout",
          "text": [
            "First person to roll a 5 wins!\n",
            "You rolled the dice 0 times.\n"
          ]
        }
      ]
    },
    {
      "cell_type": "markdown",
      "metadata": {
        "id": "uywv4URzwJVe"
      },
      "source": [
        "#### Task\n",
        "\n",
        "Using what you've learnt: \n",
        "generate a random number between 1 and 5 and allow the user to guess."
      ]
    },
    {
      "cell_type": "code",
      "metadata": {
        "colab": {
          "base_uri": "https://localhost:8080/"
        },
        "id": "tSGwGW8zwI6c",
        "outputId": "57594ce2-7018-4452-e583-3a2153e15a00"
      },
      "source": [
        "num = random.randint(1, 5)\n",
        "tries = 0\n",
        "guess = 0\n",
        "\n",
        "while num != guess:\n",
        "    tries +=1\n",
        "    value = input(\"Guess a number between 1 and 5:  \")\n",
        "    guess = int(value)\n",
        "    print (f'You guessed {value}!')\n",
        "\n",
        "    \n",
        "\n",
        "print(f'You guessed it in {tries} tries!')"
      ],
      "execution_count": 30,
      "outputs": [
        {
          "output_type": "stream",
          "name": "stdout",
          "text": [
            "You guessed 1!\nYou guessed it in 1 tries!\n"
          ]
        }
      ]
    },
    {
      "cell_type": "markdown",
      "metadata": {
        "id": "YbvDGUT4BPvt"
      },
      "source": [
        "**Rebuild the number guessing game**, but this time:\n",
        "\n",
        "Display the current guess number.\n",
        "* If the guess is too low, tell the user \"Your guess is too low, try again!\"\n",
        "* If the guess is too high, tell the user \"Your guess is too high, try again!\"\n",
        "* If the user enters a nonnumeric value, tell the user \"Numbers only, please!\""
      ]
    },
    {
      "cell_type": "markdown",
      "metadata": {
        "id": "7FIc5yDrv1aw"
      },
      "source": [
        "### For Loops\n",
        "\n",
        "For loops allow you to iterate items in a list or sequence and perform functions on them."
      ]
    },
    {
      "cell_type": "code",
      "metadata": {
        "colab": {
          "base_uri": "https://localhost:8080/"
        },
        "id": "ALzYEXO9wsSl",
        "outputId": "2de7ec32-cb00-46d0-9ae9-f42a98057637"
      },
      "source": [
        "#create a list\n",
        "animals = [\"ant\", \"bird\", \"cow\", \"dog\", \"elephant\", \"frog\"]\n",
        "\n",
        "for animal in animals:\n",
        "    print(animal)"
      ],
      "execution_count": 11,
      "outputs": [
        {
          "output_type": "stream",
          "name": "stdout",
          "text": [
            "ant\nbird\ncow\ndog\nelephant\nfrog\n"
          ]
        }
      ]
    },
    {
      "cell_type": "code",
      "metadata": {
        "colab": {
          "base_uri": "https://localhost:8080/"
        },
        "id": "4MFR_Km50VUT",
        "outputId": "09a40b81-4630-41fa-de75-076f88822d3f"
      },
      "source": [
        "letter = \"banana\"\n",
        "\n",
        "for a in letter:\n",
        "    print(a)"
      ],
      "execution_count": 12,
      "outputs": [
        {
          "output_type": "stream",
          "name": "stdout",
          "text": [
            "b\na\nn\na\nn\na\n"
          ]
        }
      ]
    },
    {
      "cell_type": "code",
      "metadata": {
        "colab": {
          "base_uri": "https://localhost:8080/"
        },
        "id": "333qKyj-xNoR",
        "outputId": "d2eebc3e-e4f3-473e-d7d1-faa23f372d86"
      },
      "source": [
        "#loops allow you to iterate items in a range\n",
        "\n",
        "for a in range(6):\n",
        "    print(a)"
      ],
      "execution_count": 13,
      "outputs": [
        {
          "output_type": "stream",
          "name": "stdout",
          "text": [
            "0\n1\n2\n3\n4\n5\n"
          ]
        }
      ]
    },
    {
      "cell_type": "code",
      "metadata": {
        "colab": {
          "base_uri": "https://localhost:8080/"
        },
        "id": "9p33jbG6xhfu",
        "outputId": "9c6277d2-e095-4a4a-e243-ab8d1a994ea0"
      },
      "source": [
        "for a in range(6, 9):\n",
        "    print(a)"
      ],
      "execution_count": 14,
      "outputs": [
        {
          "output_type": "stream",
          "name": "stdout",
          "text": [
            "6\n7\n8\n"
          ]
        }
      ]
    },
    {
      "cell_type": "code",
      "metadata": {
        "colab": {
          "base_uri": "https://localhost:8080/"
        },
        "id": "iPdyyP1kxoLl",
        "outputId": "677e7c10-6599-4bcc-e131-31a18c81f50d"
      },
      "source": [
        "#print even numbers in a given range\n",
        "for a in range(0,10, 2):\n",
        "    print(a)"
      ],
      "execution_count": 15,
      "outputs": [
        {
          "output_type": "stream",
          "name": "stdout",
          "text": [
            "0\n2\n4\n6\n8\n"
          ]
        }
      ]
    },
    {
      "cell_type": "code",
      "metadata": {
        "colab": {
          "base_uri": "https://localhost:8080/"
        },
        "id": "CJF1fU3qxwzr",
        "outputId": "1a64309d-4d03-4694-9f5e-1972958ef70b"
      },
      "source": [
        "#print even numbers in a given range\n",
        "for a in range(0,10):\n",
        "    if a%2 == 0:\n",
        "        print(a)"
      ],
      "execution_count": 16,
      "outputs": [
        {
          "output_type": "stream",
          "name": "stdout",
          "text": [
            "0\n2\n4\n6\n8\n"
          ]
        }
      ]
    },
    {
      "cell_type": "code",
      "metadata": {
        "colab": {
          "base_uri": "https://localhost:8080/"
        },
        "id": "ZKI0reu9yAS-",
        "outputId": "7ac477b7-9733-4320-f22d-e866a61a3396"
      },
      "source": [
        "#perform operations in loops\n",
        "#print even numbers in a given range\n",
        "for a in range(0,10, 2):\n",
        "    b = a * 2\n",
        "    print(b)"
      ],
      "execution_count": 17,
      "outputs": [
        {
          "output_type": "stream",
          "name": "stdout",
          "text": [
            "0\n4\n8\n12\n16\n"
          ]
        }
      ]
    },
    {
      "cell_type": "markdown",
      "metadata": {
        "id": "CYe3XWzw1HIf"
      },
      "source": [
        "#### **Task**\n",
        "\n",
        "Print multiplication table of a given number"
      ]
    },
    {
      "cell_type": "code",
      "metadata": {
        "colab": {
          "base_uri": "https://localhost:8080/"
        },
        "id": "nAK1VeBS1UBA",
        "outputId": "a1836914-703e-4eb1-b2a9-bc6727a3336c"
      },
      "source": [
        "num = int(input(\"Add a number\"))\n",
        "\n",
        "for a in range(12):\n",
        "    b = num * a\n",
        "    print(b)"
      ],
      "execution_count": 18,
      "outputs": [
        {
          "output_type": "stream",
          "name": "stdout",
          "text": [
            "0\n32\n64\n96\n128\n160\n192\n224\n256\n288\n320\n352\n"
          ]
        }
      ]
    },
    {
      "cell_type": "markdown",
      "metadata": {
        "id": "9n6GXTZj1wWz"
      },
      "source": [
        "**Rebuild multiplcation**, but this time:\n",
        "\n",
        "* Allow a user to input more than one number\n",
        "* Allow a user to define the range of the multiplication table"
      ]
    },
    {
      "cell_type": "markdown",
      "metadata": {
        "id": "ab30w8PbBJVD"
      },
      "source": [
        "## Functions\n",
        "\n",
        "Content extracted from Microsoft Learn course - https://docs.microsoft.com/en-us/learn/modules/python-functions/\n",
        "\n",
        "A program can contain millions or even billions lines onf code. How do you better organize your code to make everything understandable?\n",
        "\n",
        "A function is a basic line of code that can be reused in the program.\n",
        "\n",
        "#### Roles of functions\n",
        "* keep your program understandable\n",
        "* keep your program manageable\n",
        "* keep your program more easily written\n",
        "* keep part of your program reusable\n"
      ]
    },
    {
      "cell_type": "code",
      "metadata": {
        "id": "fOAYhlz_uiDR",
        "colab": {
          "base_uri": "https://localhost:8080/"
        },
        "outputId": "9dd7c6e7-ca28-4f3e-8b71-09c3912eb91e"
      },
      "source": [
        "#our first function\n",
        "#print Hello East Africa!\n",
        "\n",
        "def helloEA():\n",
        "    print(\"Hello East Africa\")\n",
        "\n",
        "helloEA()\n",
        "\n",
        "#define a function first before you call it"
      ],
      "execution_count": 19,
      "outputs": [
        {
          "output_type": "stream",
          "name": "stdout",
          "text": [
            "Hello East Africa\n"
          ]
        }
      ]
    },
    {
      "cell_type": "code",
      "metadata": {
        "id": "DIXFb3T3v-SQ",
        "colab": {
          "base_uri": "https://localhost:8080/"
        },
        "outputId": "46d851e4-f79e-481c-fadc-cbbbede35eee"
      },
      "source": [
        "#adding arguments\n",
        "\n",
        "def helloEA(country):\n",
        "    print(f\"Hello {country}\")\n",
        "\n",
        "# helloEA()\n",
        "# helloEA(Kenya)\n",
        "# helloEA(\"Kenya\")\n",
        "# helloEA(input(\"What country are you from?  \"))"
      ],
      "execution_count": 20,
      "outputs": []
    },
    {
      "cell_type": "code",
      "metadata": {
        "colab": {
          "base_uri": "https://localhost:8080/"
        },
        "id": "SkW_txf9mlgz",
        "outputId": "f0fb0d50-f49a-489e-bc4b-eb864466996e"
      },
      "source": [
        "#adding a second parameter\n",
        "\n",
        "def helloEA(greeting, country):\n",
        "    print(f\"{greeting} {country}\")\n",
        "\n",
        "helloEA(input(\"How do you say hello in your local language?  \"), input(\"What country are you from?  \"))"
      ],
      "execution_count": 21,
      "outputs": [
        {
          "output_type": "stream",
          "name": "stdout",
          "text": [
            "Jambo Tanzania\n"
          ]
        }
      ]
    },
    {
      "cell_type": "code",
      "metadata": {
        "colab": {
          "base_uri": "https://localhost:8080/"
        },
        "id": "cs8a1uiwnd3h",
        "outputId": "669ebb3a-2936-4b41-beff-3b01d52f7964"
      },
      "source": [
        "#Lets add conditions :-)\n",
        "def helloEA(name='East Africa', greeting=None):\n",
        "  if greeting == None:\n",
        "    print(f'Hello {name}!')\n",
        "  else:\n",
        "    print(f'{greeting} {name}!')\n",
        "\n",
        "helloEA()\n",
        "helloEA('Tanzania')\n",
        "helloEA(greeting='Jambo')\n",
        "helloEA('Tanzania', 'Jambo')"
      ],
      "execution_count": 22,
      "outputs": [
        {
          "output_type": "stream",
          "name": "stdout",
          "text": [
            "Hello East Africa!\nHello Tanzania!\nJambo East Africa!\nJambo Tanzania!\n"
          ]
        }
      ]
    },
    {
      "cell_type": "code",
      "metadata": {
        "colab": {
          "base_uri": "https://localhost:8080/"
        },
        "id": "LCCUbk3dn-OC",
        "outputId": "c1ed5276-de1e-4891-decc-9d0d028f8401"
      },
      "source": [
        "#return in functions\n",
        "# performing mathematical operations\n",
        "\n",
        "def addNumbers(x,y):\n",
        "    return x + y\n",
        "\n",
        "addNumbers(3,5)"
      ],
      "execution_count": 23,
      "outputs": [
        {
          "output_type": "execute_result",
          "data": {
            "text/plain": [
              "8"
            ]
          },
          "metadata": {},
          "execution_count": 23
        }
      ]
    },
    {
      "cell_type": "code",
      "metadata": {
        "colab": {
          "base_uri": "https://localhost:8080/"
        },
        "id": "lx1VIgcCoehF",
        "outputId": "2b4cb3a9-29ad-4926-d792-d26220d00b97"
      },
      "source": [
        "#performing list operations in functions\n",
        "# let's play a game of hearts :-)\n",
        "\n",
        "def newDeck():\n",
        "    suits = (\"Hearts\", \"Spades\", \"Diamonds\", \"Clubs\")\n",
        "    ranks = [\"2\", \"3\", \"4\", \"5\", \"6\", \"7\", \"8\", \"9\", \"10\", \"Jack\", \"Queen\", \"King\", \"Ace\"]\n",
        "    deck = []\n",
        "\n",
        "    for  suit in suits:\n",
        "        for rank in ranks:\n",
        "            deck.append(f'{ranks} of {suits}')\n",
        "\n",
        "    return deck\n",
        "\n",
        "newDeck()"
      ],
      "execution_count": 24,
      "outputs": [
        {
          "output_type": "execute_result",
          "data": {
            "text/plain": [
              "[\"['2', '3', '4', '5', '6', '7', '8', '9', '10', 'Jack', 'Queen', 'King', 'Ace'] of ('Hearts', 'Spades', 'Diamonds', 'Clubs')\",\n",
              " \"['2', '3', '4', '5', '6', '7', '8', '9', '10', 'Jack', 'Queen', 'King', 'Ace'] of ('Hearts', 'Spades', 'Diamonds', 'Clubs')\",\n",
              " \"['2', '3', '4', '5', '6', '7', '8', '9', '10', 'Jack', 'Queen', 'King', 'Ace'] of ('Hearts', 'Spades', 'Diamonds', 'Clubs')\",\n",
              " \"['2', '3', '4', '5', '6', '7', '8', '9', '10', 'Jack', 'Queen', 'King', 'Ace'] of ('Hearts', 'Spades', 'Diamonds', 'Clubs')\",\n",
              " \"['2', '3', '4', '5', '6', '7', '8', '9', '10', 'Jack', 'Queen', 'King', 'Ace'] of ('Hearts', 'Spades', 'Diamonds', 'Clubs')\",\n",
              " \"['2', '3', '4', '5', '6', '7', '8', '9', '10', 'Jack', 'Queen', 'King', 'Ace'] of ('Hearts', 'Spades', 'Diamonds', 'Clubs')\",\n",
              " \"['2', '3', '4', '5', '6', '7', '8', '9', '10', 'Jack', 'Queen', 'King', 'Ace'] of ('Hearts', 'Spades', 'Diamonds', 'Clubs')\",\n",
              " \"['2', '3', '4', '5', '6', '7', '8', '9', '10', 'Jack', 'Queen', 'King', 'Ace'] of ('Hearts', 'Spades', 'Diamonds', 'Clubs')\",\n",
              " \"['2', '3', '4', '5', '6', '7', '8', '9', '10', 'Jack', 'Queen', 'King', 'Ace'] of ('Hearts', 'Spades', 'Diamonds', 'Clubs')\",\n",
              " \"['2', '3', '4', '5', '6', '7', '8', '9', '10', 'Jack', 'Queen', 'King', 'Ace'] of ('Hearts', 'Spades', 'Diamonds', 'Clubs')\",\n",
              " \"['2', '3', '4', '5', '6', '7', '8', '9', '10', 'Jack', 'Queen', 'King', 'Ace'] of ('Hearts', 'Spades', 'Diamonds', 'Clubs')\",\n",
              " \"['2', '3', '4', '5', '6', '7', '8', '9', '10', 'Jack', 'Queen', 'King', 'Ace'] of ('Hearts', 'Spades', 'Diamonds', 'Clubs')\",\n",
              " \"['2', '3', '4', '5', '6', '7', '8', '9', '10', 'Jack', 'Queen', 'King', 'Ace'] of ('Hearts', 'Spades', 'Diamonds', 'Clubs')\",\n",
              " \"['2', '3', '4', '5', '6', '7', '8', '9', '10', 'Jack', 'Queen', 'King', 'Ace'] of ('Hearts', 'Spades', 'Diamonds', 'Clubs')\",\n",
              " \"['2', '3', '4', '5', '6', '7', '8', '9', '10', 'Jack', 'Queen', 'King', 'Ace'] of ('Hearts', 'Spades', 'Diamonds', 'Clubs')\",\n",
              " \"['2', '3', '4', '5', '6', '7', '8', '9', '10', 'Jack', 'Queen', 'King', 'Ace'] of ('Hearts', 'Spades', 'Diamonds', 'Clubs')\",\n",
              " \"['2', '3', '4', '5', '6', '7', '8', '9', '10', 'Jack', 'Queen', 'King', 'Ace'] of ('Hearts', 'Spades', 'Diamonds', 'Clubs')\",\n",
              " \"['2', '3', '4', '5', '6', '7', '8', '9', '10', 'Jack', 'Queen', 'King', 'Ace'] of ('Hearts', 'Spades', 'Diamonds', 'Clubs')\",\n",
              " \"['2', '3', '4', '5', '6', '7', '8', '9', '10', 'Jack', 'Queen', 'King', 'Ace'] of ('Hearts', 'Spades', 'Diamonds', 'Clubs')\",\n",
              " \"['2', '3', '4', '5', '6', '7', '8', '9', '10', 'Jack', 'Queen', 'King', 'Ace'] of ('Hearts', 'Spades', 'Diamonds', 'Clubs')\",\n",
              " \"['2', '3', '4', '5', '6', '7', '8', '9', '10', 'Jack', 'Queen', 'King', 'Ace'] of ('Hearts', 'Spades', 'Diamonds', 'Clubs')\",\n",
              " \"['2', '3', '4', '5', '6', '7', '8', '9', '10', 'Jack', 'Queen', 'King', 'Ace'] of ('Hearts', 'Spades', 'Diamonds', 'Clubs')\",\n",
              " \"['2', '3', '4', '5', '6', '7', '8', '9', '10', 'Jack', 'Queen', 'King', 'Ace'] of ('Hearts', 'Spades', 'Diamonds', 'Clubs')\",\n",
              " \"['2', '3', '4', '5', '6', '7', '8', '9', '10', 'Jack', 'Queen', 'King', 'Ace'] of ('Hearts', 'Spades', 'Diamonds', 'Clubs')\",\n",
              " \"['2', '3', '4', '5', '6', '7', '8', '9', '10', 'Jack', 'Queen', 'King', 'Ace'] of ('Hearts', 'Spades', 'Diamonds', 'Clubs')\",\n",
              " \"['2', '3', '4', '5', '6', '7', '8', '9', '10', 'Jack', 'Queen', 'King', 'Ace'] of ('Hearts', 'Spades', 'Diamonds', 'Clubs')\",\n",
              " \"['2', '3', '4', '5', '6', '7', '8', '9', '10', 'Jack', 'Queen', 'King', 'Ace'] of ('Hearts', 'Spades', 'Diamonds', 'Clubs')\",\n",
              " \"['2', '3', '4', '5', '6', '7', '8', '9', '10', 'Jack', 'Queen', 'King', 'Ace'] of ('Hearts', 'Spades', 'Diamonds', 'Clubs')\",\n",
              " \"['2', '3', '4', '5', '6', '7', '8', '9', '10', 'Jack', 'Queen', 'King', 'Ace'] of ('Hearts', 'Spades', 'Diamonds', 'Clubs')\",\n",
              " \"['2', '3', '4', '5', '6', '7', '8', '9', '10', 'Jack', 'Queen', 'King', 'Ace'] of ('Hearts', 'Spades', 'Diamonds', 'Clubs')\",\n",
              " \"['2', '3', '4', '5', '6', '7', '8', '9', '10', 'Jack', 'Queen', 'King', 'Ace'] of ('Hearts', 'Spades', 'Diamonds', 'Clubs')\",\n",
              " \"['2', '3', '4', '5', '6', '7', '8', '9', '10', 'Jack', 'Queen', 'King', 'Ace'] of ('Hearts', 'Spades', 'Diamonds', 'Clubs')\",\n",
              " \"['2', '3', '4', '5', '6', '7', '8', '9', '10', 'Jack', 'Queen', 'King', 'Ace'] of ('Hearts', 'Spades', 'Diamonds', 'Clubs')\",\n",
              " \"['2', '3', '4', '5', '6', '7', '8', '9', '10', 'Jack', 'Queen', 'King', 'Ace'] of ('Hearts', 'Spades', 'Diamonds', 'Clubs')\",\n",
              " \"['2', '3', '4', '5', '6', '7', '8', '9', '10', 'Jack', 'Queen', 'King', 'Ace'] of ('Hearts', 'Spades', 'Diamonds', 'Clubs')\",\n",
              " \"['2', '3', '4', '5', '6', '7', '8', '9', '10', 'Jack', 'Queen', 'King', 'Ace'] of ('Hearts', 'Spades', 'Diamonds', 'Clubs')\",\n",
              " \"['2', '3', '4', '5', '6', '7', '8', '9', '10', 'Jack', 'Queen', 'King', 'Ace'] of ('Hearts', 'Spades', 'Diamonds', 'Clubs')\",\n",
              " \"['2', '3', '4', '5', '6', '7', '8', '9', '10', 'Jack', 'Queen', 'King', 'Ace'] of ('Hearts', 'Spades', 'Diamonds', 'Clubs')\",\n",
              " \"['2', '3', '4', '5', '6', '7', '8', '9', '10', 'Jack', 'Queen', 'King', 'Ace'] of ('Hearts', 'Spades', 'Diamonds', 'Clubs')\",\n",
              " \"['2', '3', '4', '5', '6', '7', '8', '9', '10', 'Jack', 'Queen', 'King', 'Ace'] of ('Hearts', 'Spades', 'Diamonds', 'Clubs')\",\n",
              " \"['2', '3', '4', '5', '6', '7', '8', '9', '10', 'Jack', 'Queen', 'King', 'Ace'] of ('Hearts', 'Spades', 'Diamonds', 'Clubs')\",\n",
              " \"['2', '3', '4', '5', '6', '7', '8', '9', '10', 'Jack', 'Queen', 'King', 'Ace'] of ('Hearts', 'Spades', 'Diamonds', 'Clubs')\",\n",
              " \"['2', '3', '4', '5', '6', '7', '8', '9', '10', 'Jack', 'Queen', 'King', 'Ace'] of ('Hearts', 'Spades', 'Diamonds', 'Clubs')\",\n",
              " \"['2', '3', '4', '5', '6', '7', '8', '9', '10', 'Jack', 'Queen', 'King', 'Ace'] of ('Hearts', 'Spades', 'Diamonds', 'Clubs')\",\n",
              " \"['2', '3', '4', '5', '6', '7', '8', '9', '10', 'Jack', 'Queen', 'King', 'Ace'] of ('Hearts', 'Spades', 'Diamonds', 'Clubs')\",\n",
              " \"['2', '3', '4', '5', '6', '7', '8', '9', '10', 'Jack', 'Queen', 'King', 'Ace'] of ('Hearts', 'Spades', 'Diamonds', 'Clubs')\",\n",
              " \"['2', '3', '4', '5', '6', '7', '8', '9', '10', 'Jack', 'Queen', 'King', 'Ace'] of ('Hearts', 'Spades', 'Diamonds', 'Clubs')\",\n",
              " \"['2', '3', '4', '5', '6', '7', '8', '9', '10', 'Jack', 'Queen', 'King', 'Ace'] of ('Hearts', 'Spades', 'Diamonds', 'Clubs')\",\n",
              " \"['2', '3', '4', '5', '6', '7', '8', '9', '10', 'Jack', 'Queen', 'King', 'Ace'] of ('Hearts', 'Spades', 'Diamonds', 'Clubs')\",\n",
              " \"['2', '3', '4', '5', '6', '7', '8', '9', '10', 'Jack', 'Queen', 'King', 'Ace'] of ('Hearts', 'Spades', 'Diamonds', 'Clubs')\",\n",
              " \"['2', '3', '4', '5', '6', '7', '8', '9', '10', 'Jack', 'Queen', 'King', 'Ace'] of ('Hearts', 'Spades', 'Diamonds', 'Clubs')\",\n",
              " \"['2', '3', '4', '5', '6', '7', '8', '9', '10', 'Jack', 'Queen', 'King', 'Ace'] of ('Hearts', 'Spades', 'Diamonds', 'Clubs')\"]"
            ]
          },
          "metadata": {},
          "execution_count": 24
        }
      ]
    },
    {
      "cell_type": "code",
      "metadata": {
        "colab": {
          "base_uri": "https://localhost:8080/"
        },
        "id": "vaL7_JBzpdba",
        "outputId": "3cd75fef-623d-4db7-ae96-46caae01a96b"
      },
      "source": [
        "len(newDeck())"
      ],
      "execution_count": 26,
      "outputs": [
        {
          "output_type": "execute_result",
          "data": {
            "text/plain": [
              "52"
            ]
          },
          "metadata": {},
          "execution_count": 26
        }
      ]
    },
    {
      "cell_type": "code",
      "metadata": {
        "id": "jKzisf_VrG9C"
      },
      "source": [
        "# import deck\n",
        "\n",
        "# cards = newDeck.create_deck()\n",
        "\n",
        "# for card in cards:\n",
        "#   print(card)\n",
        "\n",
        "# performed in VS Code"
      ],
      "execution_count": 26,
      "outputs": []
    },
    {
      "cell_type": "markdown",
      "metadata": {
        "id": "CAhTs-tKsf2W"
      },
      "source": [
        "### Task\n",
        "\n",
        "Create a FUNCTION to find if provided year is leap or not"
      ]
    },
    {
      "cell_type": "code",
      "metadata": {
        "colab": {
          "base_uri": "https://localhost:8080/"
        },
        "id": "AW7vMqHdsrOU",
        "outputId": "ad325632-1d64-41fd-b317-7b0c19bf2b4f"
      },
      "source": [
        "year = int(input('Enter a year: '))\n",
        "\n",
        "def leapYear(year):\n",
        "    if (year % 4) == 0:\n",
        "        print('this is a leap year')\n",
        "    else:\n",
        "        print('this is not a leap year')\n",
        "\n",
        "leapYear(year)"
      ],
      "execution_count": 28,
      "outputs": [
        {
          "output_type": "stream",
          "text": [
            "Enter a year: 2021\n",
            "this is not a leap year\n"
          ],
          "name": "stdout"
        }
      ]
    },
    {
      "cell_type": "markdown",
      "metadata": {
        "id": "BAI4FfoxuwTN"
      },
      "source": [
        "**Rebuild the function**, but this time:\n",
        "\n",
        "Allow the user to add multiple years.\n",
        "\n",
        "Ask the user the year he/she current age and calculate whether they were born  on a leap year or not."
      ]
    },
    {
      "source": [
        "## Conclusion\n",
        "\n",
        "Have we met the objectives of the session?\n",
        "* Use the **while statement** to iterate through a code block.​\n",
        "* Use the **break, continue, and if-else statements** to further control iteration.\n",
        "* Use **for looops** to iterate sequences\n",
        "* Define **functions** and add arguments and later return values from functions\n",
        "* Create **modules** to host functions that can be imported to other files\n",
        "\n",
        "## Resources\n",
        "* [Create reusable functionality with functions in Python](https://docs.microsoft.com/en-us/learn/modules/python-functions/)\n",
        "* [Iterate through code blocks by using the while statement](https://docs.microsoft.com/en-us/learn/modules/python-while/)\n",
        "* [Control Flow Tools in Python](https://docs.python.org/3/tutorial/controlflow.html)\n",
        "\n",
        "## Next Steps\n",
        "* [Exercise - Add arbitrary argument lists and keyword arguments to functions](https://docs.microsoft.com/en-us/learn/modules/python-functions/3-exercise-parameters)\n",
        "* [Take your first steps in Python learning path](https://docs.microsoft.com/en-us/learn/paths/python-first-steps/)\n",
        "\n"
      ],
      "cell_type": "markdown",
      "metadata": {}
    }
  ]
}